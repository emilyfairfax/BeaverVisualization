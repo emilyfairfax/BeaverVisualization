{
 "cells": [
  {
   "cell_type": "markdown",
   "metadata": {},
   "source": [
    "## Beaver Drought ET Data Visualization\n",
    "### Written by Emily Fairfax in 2018\n",
    "#### for educational and research purposes, displayed on emilyfairfaxscience.com\n",
    "\n",
    "Use the following notebook to generate an interactive visualization of multiple rasters of ET data overlayed on a satellite image.\n",
    "\n",
    "OR modify the code to make your own visualization for your own data!"
   ]
  },
  {
   "cell_type": "code",
   "execution_count": 22,
   "metadata": {},
   "outputs": [],
   "source": [
    "#Import packages and functions\n",
    "from bokeh.io import show\n",
    "from bokeh.models import LinearColorMapper\n",
    "from bokeh.palettes import Viridis256 as viridis\n",
    "from bokeh.palettes import RdBu as rdbu\n",
    "from bokeh.models.glyphs import ImageURL\n",
    "from bokeh.plotting import figure\n",
    "from bokeh.embed import components \n",
    "from bokeh.resources import CDN\n",
    "from bokeh.models import HoverTool\n",
    "import numpy as np\n",
    "import pandas as pd\n",
    "\n",
    "#set range of data rasters\n",
    "x_range = 26\n",
    "y_range = 25\n",
    "total_cells = x_range * y_range\n",
    "\n",
    "#set corners of rasters\n",
    "base_xs = [0,1,1,0]\n",
    "base_ys = [0,0,1,1]\n",
    "grid_xs = []\n",
    "grid_ys = []\n",
    "\n",
    "#generate an empty grid of the necessary size\n",
    "for h in range(y_range):\n",
    "    for w in range(x_range):\n",
    "        grid_xs.append([val+w for val in base_xs])\n",
    "        grid_ys.append([val+h for val in base_ys])\n",
    "\n",
    "        \n",
    "# Overlay data\n",
    "overlay_data = pd.read_csv('beaver_data.csv')\n",
    "predrought_et = overlay_data['Pre-Drought ET'].tolist()\n",
    "drought_et = overlay_data['Drought ET'].tolist()\n",
    "et_diff = overlay_data['ET Difference'].tolist()\n",
    "top_zone = overlay_data['Topographic Zone'].tolist()\n",
    "beaver = overlay_data['Beaver?'].tolist()"
   ]
  },
  {
   "cell_type": "code",
   "execution_count": 30,
   "metadata": {},
   "outputs": [],
   "source": [
    "#build data sets\n",
    "predrought_data=dict(\n",
    "    x=grid_xs, y=grid_ys,\n",
    "    predrought_et=predrought_et, top_zone=top_zone, beaver=beaver\n",
    ")\n",
    "\n",
    "drought_data=dict(\n",
    "    x=grid_xs, y=grid_ys,\n",
    "    drought_et=drought_et, top_zone=top_zone, beaver=beaver\n",
    ")\n",
    "\n",
    "\n",
    "diff_data=dict(\n",
    "    x=grid_xs, y=grid_ys,\n",
    "    et_diff=et_diff, top_zone=top_zone, beaver=beaver\n",
    ")"
   ]
  },
  {
   "cell_type": "code",
   "execution_count": 31,
   "metadata": {},
   "outputs": [],
   "source": [
    "#set color maps\n",
    "et_color_mapper = LinearColorMapper(palette=list(reversed(viridis)), low=0, high=8)\n",
    "diff_color_mapper = LinearColorMapper(palette=list(reversed(rdbu[11])), low=-4, high=4)"
   ]
  },
  {
   "cell_type": "code",
   "execution_count": 32,
   "metadata": {},
   "outputs": [],
   "source": [
    "#add tools to visualization\n",
    "TOOLS = \"pan,wheel_zoom,reset,hover,save\"\n",
    "\n",
    "#define the figure and add features\n",
    "p = figure(\n",
    "    title=\"Beaver Drought Buffering Data Visualization\", \n",
    "    tools=TOOLS,\n",
    "    x_axis_location=None, y_axis_location=None,\n",
    "    x_range=(0, x_range), y_range=(0, y_range)\n",
    ")\n",
    "\n",
    "hover = HoverTool()\n",
    "hover.tooltips = [ \n",
    "        (\"Pre-Drought Evapotranspiration\", \"@predrought_et mm/day\"),\n",
    "        (\"Drought Evapotranspiration\", \"@drought_et mm/day\"),\n",
    "        (\"Evapotranspiration DIfference\", \"@et_diff mm/day\"),\n",
    "        (\"Topographic Zone\", \"@top_zone\"),\n",
    "        (\"Beaver ?\", \"@beaver\")\n",
    "    ]\n",
    "\n",
    "p.tools.append(hover)\n",
    "    \n",
    "\n",
    "p.grid.grid_line_color = None\n",
    "#p.hover.point_policy = \"follow_mouse\""
   ]
  },
  {
   "cell_type": "code",
   "execution_count": 33,
   "metadata": {},
   "outputs": [],
   "source": [
    "#pull background image\n",
    "p.image_url(\n",
    "    url=['https://i.imgur.com/MogWbug.jpg'],\n",
    "    x=x_range / 2, y=y_range / 2, \n",
    "    w=x_range, h=y_range, \n",
    "    anchor=\"center\"\n",
    ")\n",
    "\n",
    "#make patches (color rasters) for each data set\n",
    "p.patches(\n",
    "    'x', 'y', source=predrought_data,\n",
    "    fill_color={'field': 'predrought_et', 'transform': et_color_mapper},\n",
    "    fill_alpha=0.7, \n",
    "    line_color=\"white\", \n",
    "    line_width=0.001,\n",
    "    legend='Pre-Drought Evapotranspiration',\n",
    "    visible=False\n",
    ")\n",
    "\n",
    "p.patches(\n",
    "    'x', 'y', source=drought_data,\n",
    "    fill_color={'field': 'drought_et', 'transform': et_color_mapper},\n",
    "    fill_alpha=0.7, \n",
    "    line_color=\"white\", \n",
    "    line_width=0.001,\n",
    "    legend='Drought Evapotranspiration',\n",
    "    visible=False\n",
    ")\n",
    "\n",
    "p.patches(\n",
    "    'x', 'y', source=diff_data,\n",
    "    fill_color={'field': 'et_diff', 'transform': diff_color_mapper},\n",
    "    fill_alpha=0.7, \n",
    "    line_color=\"white\", \n",
    "    line_width=0.001,\n",
    "    legend='Evapotranspiration Difference',\n",
    "    visible=False\n",
    ")\n",
    "\n",
    "#add the legend and legend interactivity\n",
    "p.legend.location = \"top_left\"\n",
    "p.legend.click_policy=\"hide\""
   ]
  },
  {
   "cell_type": "code",
   "execution_count": 34,
   "metadata": {},
   "outputs": [],
   "source": [
    "#display figure\n",
    "show(p)\n",
    "\n",
    "# html = file_html(plot, CDN, \"my plot\")\n",
    "# with open('full_html.html') as output_file:\n",
    "#     output_file.write(html)"
   ]
  },
  {
   "cell_type": "markdown",
   "metadata": {},
   "source": [
    "# INSTRUCTIONS FOR EMBEDDING IN WORDPRESS\n",
    "\n",
    "Want to put a visualization like this on your own website? Follow the directions below!\n",
    "\n",
    "1. uncomment the lines below and run it instead of the show(p) block\n",
    "2. copy the div element out of the 'div.html' file into the post. It is already there but the id in the div might update when you recreate the plot\n",
    "3. copy the code in the 'script.html' into the shortcode section.\n",
    "4. put the shortcode link BEFORE the bokeh div.\n"
   ]
  },
  {
   "cell_type": "code",
   "execution_count": 35,
   "metadata": {},
   "outputs": [],
   "source": [
    " #script, div = components(p)\n",
    " #with open('script.html', 'w') as output_file:\n",
    " #    output_file.write(script)\n",
    " #with open('div.html', 'w') as output_file:\n",
    " #    output_file.write(div)"
   ]
  },
  {
   "cell_type": "code",
   "execution_count": null,
   "metadata": {},
   "outputs": [],
   "source": []
  }
 ],
 "metadata": {
  "kernelspec": {
   "display_name": "Python 3",
   "language": "python",
   "name": "python3"
  },
  "language_info": {
   "codemirror_mode": {
    "name": "ipython",
    "version": 3
   },
   "file_extension": ".py",
   "mimetype": "text/x-python",
   "name": "python",
   "nbconvert_exporter": "python",
   "pygments_lexer": "ipython3",
   "version": "3.6.5"
  }
 },
 "nbformat": 4,
 "nbformat_minor": 2
}
